{
  "nbformat": 4,
  "nbformat_minor": 0,
  "metadata": {
    "colab": {
      "provenance": []
    },
    "kernelspec": {
      "name": "python3",
      "display_name": "Python 3"
    },
    "language_info": {
      "name": "python"
    }
  },
  "cells": [
    {
      "cell_type": "markdown",
      "source": [
        "# Prediction of Product Sales"
      ],
      "metadata": {
        "id": "ddxlsDg-HMiU"
      }
    },
    {
      "cell_type": "markdown",
      "source": [
        "* Author: Duwain Hofmeester"
      ],
      "metadata": {
        "id": "TAOOsaieHxW2"
      }
    },
    {
      "cell_type": "markdown",
      "source": [
        "## Project Overview"
      ],
      "metadata": {
        "id": "UNUCMzCZILYo"
      }
    },
    {
      "cell_type": "markdown",
      "source": [
        "\n",
        "\n",
        "## Load and Inspect Data"
      ],
      "metadata": {
        "id": "0GFDd_f0IaxJ"
      }
    },
    {
      "cell_type": "code",
      "source": [],
      "metadata": {
        "id": "OlI8cJ_iIkQK"
      },
      "execution_count": null,
      "outputs": []
    },
    {
      "cell_type": "markdown",
      "source": [
        "## Clean Data"
      ],
      "metadata": {
        "id": "iJxB0D1dIlSF"
      }
    },
    {
      "cell_type": "code",
      "source": [],
      "metadata": {
        "id": "bEj9WglHIqwd"
      },
      "execution_count": null,
      "outputs": []
    },
    {
      "cell_type": "markdown",
      "source": [
        "## Exploratory Data Analysis"
      ],
      "metadata": {
        "id": "AHiotBVOIsdH"
      }
    },
    {
      "cell_type": "code",
      "source": [],
      "metadata": {
        "id": "2_Mp01NIIzVy"
      },
      "execution_count": null,
      "outputs": []
    },
    {
      "cell_type": "markdown",
      "source": [
        "## Feature Inspection"
      ],
      "metadata": {
        "id": "csI9jhtxI1dT"
      }
    },
    {
      "cell_type": "code",
      "source": [],
      "metadata": {
        "id": "YywbiYMsJJMK"
      },
      "execution_count": null,
      "outputs": []
    }
  ]
}